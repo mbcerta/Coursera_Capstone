{
    "cells": [
        {
            "cell_type": "markdown",
            "metadata": {
                "collapsed": true
            },
            "source": "# Data Science Capstone - Battle of the Neighborhoods\n\n## Problem\nA client wishes to open a new pizza place in New York City and is looking for the best location to do so. The request is to maximize foot traffic while minimizing competition."
        },
        {
            "cell_type": "markdown",
            "metadata": {},
            "source": "## Data\nTo fulfil the request, we will utilize Foursquare data to segment New York City into its neighborhoods, then get a count of pizza shops in each neighborhood. "
        },
        {
            "cell_type": "code",
            "execution_count": 3,
            "metadata": {},
            "outputs": [
                {
                    "name": "stdout",
                    "output_type": "stream",
                    "text": "Solving environment: done\n\n## Package Plan ##\n\n  environment location: /opt/conda/envs/Python36\n\n  added / updated specs: \n    - folium=0.5.0\n\n\nThe following packages will be downloaded:\n\n    package                    |            build\n    ---------------------------|-----------------\n    altair-3.2.0               |           py36_0         770 KB  conda-forge\n    vincent-0.4.4              |             py_1          28 KB  conda-forge\n    certifi-2019.9.11          |           py36_0         147 KB  conda-forge\n    ca-certificates-2019.9.11  |       hecc5488_0         144 KB  conda-forge\n    branca-0.3.1               |             py_0          25 KB  conda-forge\n    folium-0.5.0               |             py_0          45 KB  conda-forge\n    openssl-1.1.1d             |       h516909a_0         2.1 MB  conda-forge\n    ------------------------------------------------------------\n                                           Total:         3.2 MB\n\nThe following NEW packages will be INSTALLED:\n\n    altair:          3.2.0-py36_0      conda-forge\n    branca:          0.3.1-py_0        conda-forge\n    folium:          0.5.0-py_0        conda-forge\n    vincent:         0.4.4-py_1        conda-forge\n\nThe following packages will be UPDATED:\n\n    certifi:         2019.9.11-py36_0              --> 2019.9.11-py36_0     conda-forge\n\nThe following packages will be DOWNGRADED:\n\n    ca-certificates: 2019.10.16-0                  --> 2019.9.11-hecc5488_0 conda-forge\n    openssl:         1.1.1d-h7b6447c_3             --> 1.1.1d-h516909a_0    conda-forge\n\n\nDownloading and Extracting Packages\naltair-3.2.0         | 770 KB    | ##################################### | 100% \nvincent-0.4.4        | 28 KB     | ##################################### | 100% \ncertifi-2019.9.11    | 147 KB    | ##################################### | 100% \nca-certificates-2019 | 144 KB    | ##################################### | 100% \nbranca-0.3.1         | 25 KB     | ##################################### | 100% \nfolium-0.5.0         | 45 KB     | ##################################### | 100% \nopenssl-1.1.1d       | 2.1 MB    | ##################################### | 100% \nPreparing transaction: done\nVerifying transaction: done\nExecuting transaction: done\nLibraries imported.\n"
                }
            ],
            "source": "#first, we will import all the libraries we will need\nimport numpy as np # library to handle data in a vectorized manner\n\nimport pandas as pd # library for data analsysis\npd.set_option('display.max_columns', None)\npd.set_option('display.max_rows', None)\n\nimport json # library to handle JSON files\n\n#!conda install -c conda-forge geopy --yes # uncomment this line if you haven't completed the Foursquare API lab\nfrom geopy.geocoders import Nominatim # convert an address into latitude and longitude values\n\nimport requests # library to handle requests\nfrom pandas.io.json import json_normalize # tranform JSON file into a pandas dataframe\n\n# Matplotlib and associated plotting modules\nimport matplotlib.cm as cm\nimport matplotlib.colors as colors\n\n# import k-means from clustering stage\nfrom sklearn.cluster import KMeans\n\n!conda install -c conda-forge folium=0.5.0 --yes \nimport folium # map rendering library\n\nprint('Libraries imported.')"
        },
        {
            "cell_type": "code",
            "execution_count": 4,
            "metadata": {},
            "outputs": [
                {
                    "name": "stdout",
                    "output_type": "stream",
                    "text": "Data downloaded!\n"
                }
            ],
            "source": "#now we'll import the data for NYC's neighborhood coordinates\n!wget -q -O 'newyork_data.json' https://cocl.us/new_york_dataset\nprint('Data downloaded!')\nwith open('newyork_data.json') as json_data:\n    newyork_data = json.load(json_data)"
        },
        {
            "cell_type": "code",
            "execution_count": 5,
            "metadata": {},
            "outputs": [
                {
                    "data": {
                        "text/plain": "{'type': 'Feature',\n 'id': 'nyu_2451_34572.1',\n 'geometry': {'type': 'Point',\n  'coordinates': [-73.84720052054902, 40.89470517661]},\n 'geometry_name': 'geom',\n 'properties': {'name': 'Wakefield',\n  'stacked': 1,\n  'annoline1': 'Wakefield',\n  'annoline2': None,\n  'annoline3': None,\n  'annoangle': 0.0,\n  'borough': 'Bronx',\n  'bbox': [-73.84720052054902,\n   40.89470517661,\n   -73.84720052054902,\n   40.89470517661]}}"
                    },
                    "execution_count": 5,
                    "metadata": {},
                    "output_type": "execute_result"
                }
            ],
            "source": "#separating out the important data\nneighborhoods_data = newyork_data['features']\n\n#Let's look at a little of the data, just to make sure it imported properly\nneighborhoods_data[0]"
        },
        {
            "cell_type": "code",
            "execution_count": 6,
            "metadata": {},
            "outputs": [
                {
                    "data": {
                        "text/html": "<div>\n<style scoped>\n    .dataframe tbody tr th:only-of-type {\n        vertical-align: middle;\n    }\n\n    .dataframe tbody tr th {\n        vertical-align: top;\n    }\n\n    .dataframe thead th {\n        text-align: right;\n    }\n</style>\n<table border=\"1\" class=\"dataframe\">\n  <thead>\n    <tr style=\"text-align: right;\">\n      <th></th>\n      <th>Borough</th>\n      <th>Neighborhood</th>\n      <th>Latitude</th>\n      <th>Longitude</th>\n    </tr>\n  </thead>\n  <tbody>\n    <tr>\n      <th>0</th>\n      <td>Bronx</td>\n      <td>Wakefield</td>\n      <td>40.894705</td>\n      <td>-73.847201</td>\n    </tr>\n    <tr>\n      <th>1</th>\n      <td>Bronx</td>\n      <td>Co-op City</td>\n      <td>40.874294</td>\n      <td>-73.829939</td>\n    </tr>\n    <tr>\n      <th>2</th>\n      <td>Bronx</td>\n      <td>Eastchester</td>\n      <td>40.887556</td>\n      <td>-73.827806</td>\n    </tr>\n    <tr>\n      <th>3</th>\n      <td>Bronx</td>\n      <td>Fieldston</td>\n      <td>40.895437</td>\n      <td>-73.905643</td>\n    </tr>\n    <tr>\n      <th>4</th>\n      <td>Bronx</td>\n      <td>Riverdale</td>\n      <td>40.890834</td>\n      <td>-73.912585</td>\n    </tr>\n  </tbody>\n</table>\n</div>",
                        "text/plain": "  Borough Neighborhood   Latitude  Longitude\n0   Bronx    Wakefield  40.894705 -73.847201\n1   Bronx   Co-op City  40.874294 -73.829939\n2   Bronx  Eastchester  40.887556 -73.827806\n3   Bronx    Fieldston  40.895437 -73.905643\n4   Bronx    Riverdale  40.890834 -73.912585"
                    },
                    "execution_count": 6,
                    "metadata": {},
                    "output_type": "execute_result"
                }
            ],
            "source": "#convert the JSON file into a dataframe\n\ncolumn_names = ['Borough', 'Neighborhood', 'Latitude', 'Longitude'] \nneighborhoods = pd.DataFrame(columns=column_names)\nfor data in neighborhoods_data:\n    borough = neighborhood_name = data['properties']['borough'] \n    neighborhood_name = data['properties']['name']\n        \n    neighborhood_latlon = data['geometry']['coordinates']\n    neighborhood_lat = neighborhood_latlon[1]\n    neighborhood_lon = neighborhood_latlon[0]\n    \n    neighborhoods = neighborhoods.append({'Borough': borough,\n                                          'Neighborhood': neighborhood_name,\n                                          'Latitude': neighborhood_lat,\n                                          'Longitude': neighborhood_lon}, ignore_index=True)\n    \n#make sure it worked by looking at the head of our new dataframe\nneighborhoods.head()"
        },
        {
            "cell_type": "code",
            "execution_count": 7,
            "metadata": {},
            "outputs": [],
            "source": "#time to connect to Foursquare\nCLIENT_ID = '41UVGBKCELUFGH5URUEESMYG0MDPAMQDWYB0RXERKYZNN1JC' # your Foursquare ID\nCLIENT_SECRET = '4CQASKIGY3V2NKDDME3X1LCLZUR02SZ2ISWMQ1QZJFBWXAUW' # your Foursquare Secret\nVERSION = '20180605' # Foursquare API version\n"
        },
        {
            "cell_type": "markdown",
            "metadata": {},
            "source": "From Foursquare, we want to get a count of pizza places in each neighborhood, then a list of all the pizza places with the number of visits to determine the popularity of certain locations. We'll start high level, looking at the number of pizza places in each borough, along with total visits to all the pizza shops in a borough. Once we select a borough, we will do the same for its neighborhoods.\n"
        },
        {
            "cell_type": "code",
            "execution_count": null,
            "metadata": {},
            "outputs": [],
            "source": ""
        }
    ],
    "metadata": {
        "kernelspec": {
            "display_name": "Python 3.6",
            "language": "python",
            "name": "python3"
        },
        "language_info": {
            "codemirror_mode": {
                "name": "ipython",
                "version": 3
            },
            "file_extension": ".py",
            "mimetype": "text/x-python",
            "name": "python",
            "nbconvert_exporter": "python",
            "pygments_lexer": "ipython3",
            "version": "3.6.8"
        }
    },
    "nbformat": 4,
    "nbformat_minor": 1
}