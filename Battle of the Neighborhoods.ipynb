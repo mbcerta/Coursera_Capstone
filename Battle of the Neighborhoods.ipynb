{
    "cells": [
        {
            "cell_type": "markdown",
            "metadata": {
                "collapsed": true
            },
            "source": "# Data Science Capstone - Battle of the Neighborhoods\n\n## Problem\nA client wishes to open a new pizza place in New York City and is looking for the best location to do so. The request is to maximize foot traffic while minimizing competition."
        },
        {
            "cell_type": "markdown",
            "metadata": {},
            "source": "## Data\nTo fulfil the request, we will utilize Foursquare data to segment New York City into its neighborhoods, then get a count of pizza shops in each neighborhood. "
        },
        {
            "cell_type": "code",
            "execution_count": 3,
            "metadata": {},
            "outputs": [
                {
                    "name": "stdout",
                    "output_type": "stream",
                    "text": "Solving environment: done\n\n## Package Plan ##\n\n  environment location: /opt/conda/envs/Python36\n\n  added / updated specs: \n    - folium=0.5.0\n\n\nThe following packages will be downloaded:\n\n    package                    |            build\n    ---------------------------|-----------------\n    altair-3.2.0               |           py36_0         770 KB  conda-forge\n    vincent-0.4.4              |             py_1          28 KB  conda-forge\n    certifi-2019.9.11          |           py36_0         147 KB  conda-forge\n    ca-certificates-2019.9.11  |       hecc5488_0         144 KB  conda-forge\n    branca-0.3.1               |             py_0          25 KB  conda-forge\n    folium-0.5.0               |             py_0          45 KB  conda-forge\n    openssl-1.1.1d             |       h516909a_0         2.1 MB  conda-forge\n    ------------------------------------------------------------\n                                           Total:         3.2 MB\n\nThe following NEW packages will be INSTALLED:\n\n    altair:          3.2.0-py36_0      conda-forge\n    branca:          0.3.1-py_0        conda-forge\n    folium:          0.5.0-py_0        conda-forge\n    vincent:         0.4.4-py_1        conda-forge\n\nThe following packages will be UPDATED:\n\n    certifi:         2019.9.11-py36_0              --> 2019.9.11-py36_0     conda-forge\n\nThe following packages will be DOWNGRADED:\n\n    ca-certificates: 2019.10.16-0                  --> 2019.9.11-hecc5488_0 conda-forge\n    openssl:         1.1.1d-h7b6447c_3             --> 1.1.1d-h516909a_0    conda-forge\n\n\nDownloading and Extracting Packages\naltair-3.2.0         | 770 KB    | ##################################### | 100% \nvincent-0.4.4        | 28 KB     | ##################################### | 100% \ncertifi-2019.9.11    | 147 KB    | ##################################### | 100% \nca-certificates-2019 | 144 KB    | ##################################### | 100% \nbranca-0.3.1         | 25 KB     | ##################################### | 100% \nfolium-0.5.0         | 45 KB     | ##################################### | 100% \nopenssl-1.1.1d       | 2.1 MB    | ##################################### | 100% \nPreparing transaction: done\nVerifying transaction: done\nExecuting transaction: done\nLibraries imported.\n"
                }
            ],
            "source": "#first, we will import all the libraries we will need\nimport numpy as np # library to handle data in a vectorized manner\n\nimport pandas as pd # library for data analsysis\npd.set_option('display.max_columns', None)\npd.set_option('display.max_rows', None)\n\nimport json # library to handle JSON files\n\n#!conda install -c conda-forge geopy --yes # uncomment this line if you haven't completed the Foursquare API lab\nfrom geopy.geocoders import Nominatim # convert an address into latitude and longitude values\n\nimport requests # library to handle requests\nfrom pandas.io.json import json_normalize # tranform JSON file into a pandas dataframe\n\n# Matplotlib and associated plotting modules\nimport matplotlib.cm as cm\nimport matplotlib.colors as colors\n\n# import k-means from clustering stage\nfrom sklearn.cluster import KMeans\n\n!conda install -c conda-forge folium=0.5.0 --yes \nimport folium # map rendering library\n\nprint('Libraries imported.')"
        },
        {
            "cell_type": "code",
            "execution_count": 4,
            "metadata": {},
            "outputs": [
                {
                    "name": "stdout",
                    "output_type": "stream",
                    "text": "Data downloaded!\n"
                }
            ],
            "source": "#now we'll import the data for NYC's neighborhood coordinates\n!wget -q -O 'newyork_data.json' https://cocl.us/new_york_dataset\nprint('Data downloaded!')\nwith open('newyork_data.json') as json_data:\n    newyork_data = json.load(json_data)"
        },
        {
            "cell_type": "code",
            "execution_count": 5,
            "metadata": {},
            "outputs": [
                {
                    "data": {
                        "text/plain": "{'type': 'Feature',\n 'id': 'nyu_2451_34572.1',\n 'geometry': {'type': 'Point',\n  'coordinates': [-73.84720052054902, 40.89470517661]},\n 'geometry_name': 'geom',\n 'properties': {'name': 'Wakefield',\n  'stacked': 1,\n  'annoline1': 'Wakefield',\n  'annoline2': None,\n  'annoline3': None,\n  'annoangle': 0.0,\n  'borough': 'Bronx',\n  'bbox': [-73.84720052054902,\n   40.89470517661,\n   -73.84720052054902,\n   40.89470517661]}}"
                    },
                    "execution_count": 5,
                    "metadata": {},
                    "output_type": "execute_result"
                }
            ],
            "source": "#separating out the important data\nneighborhoods_data = newyork_data['features']\n\n#Let's look at a little of the data, just to make sure it imported properly\nneighborhoods_data[0]"
        },
        {
            "cell_type": "code",
            "execution_count": 6,
            "metadata": {},
            "outputs": [
                {
                    "data": {
                        "text/html": "<div>\n<style scoped>\n    .dataframe tbody tr th:only-of-type {\n        vertical-align: middle;\n    }\n\n    .dataframe tbody tr th {\n        vertical-align: top;\n    }\n\n    .dataframe thead th {\n        text-align: right;\n    }\n</style>\n<table border=\"1\" class=\"dataframe\">\n  <thead>\n    <tr style=\"text-align: right;\">\n      <th></th>\n      <th>Borough</th>\n      <th>Neighborhood</th>\n      <th>Latitude</th>\n      <th>Longitude</th>\n    </tr>\n  </thead>\n  <tbody>\n    <tr>\n      <th>0</th>\n      <td>Bronx</td>\n      <td>Wakefield</td>\n      <td>40.894705</td>\n      <td>-73.847201</td>\n    </tr>\n    <tr>\n      <th>1</th>\n      <td>Bronx</td>\n      <td>Co-op City</td>\n      <td>40.874294</td>\n      <td>-73.829939</td>\n    </tr>\n    <tr>\n      <th>2</th>\n      <td>Bronx</td>\n      <td>Eastchester</td>\n      <td>40.887556</td>\n      <td>-73.827806</td>\n    </tr>\n    <tr>\n      <th>3</th>\n      <td>Bronx</td>\n      <td>Fieldston</td>\n      <td>40.895437</td>\n      <td>-73.905643</td>\n    </tr>\n    <tr>\n      <th>4</th>\n      <td>Bronx</td>\n      <td>Riverdale</td>\n      <td>40.890834</td>\n      <td>-73.912585</td>\n    </tr>\n  </tbody>\n</table>\n</div>",
                        "text/plain": "  Borough Neighborhood   Latitude  Longitude\n0   Bronx    Wakefield  40.894705 -73.847201\n1   Bronx   Co-op City  40.874294 -73.829939\n2   Bronx  Eastchester  40.887556 -73.827806\n3   Bronx    Fieldston  40.895437 -73.905643\n4   Bronx    Riverdale  40.890834 -73.912585"
                    },
                    "execution_count": 6,
                    "metadata": {},
                    "output_type": "execute_result"
                }
            ],
            "source": "#convert the JSON file into a dataframe\n\ncolumn_names = ['Borough', 'Neighborhood', 'Latitude', 'Longitude'] \nneighborhoods = pd.DataFrame(columns=column_names)\nfor data in neighborhoods_data:\n    borough = neighborhood_name = data['properties']['borough'] \n    neighborhood_name = data['properties']['name']\n        \n    neighborhood_latlon = data['geometry']['coordinates']\n    neighborhood_lat = neighborhood_latlon[1]\n    neighborhood_lon = neighborhood_latlon[0]\n    \n    neighborhoods = neighborhoods.append({'Borough': borough,\n                                          'Neighborhood': neighborhood_name,\n                                          'Latitude': neighborhood_lat,\n                                          'Longitude': neighborhood_lon}, ignore_index=True)\n    \n#make sure it worked by looking at the head of our new dataframe\nneighborhoods.head()"
        },
        {
            "cell_type": "code",
            "execution_count": 7,
            "metadata": {},
            "outputs": [],
            "source": "#time to connect to Foursquare\nCLIENT_ID = '41UVGBKCELUFGH5URUEESMYG0MDPAMQDWYB0RXERKYZNN1JC' # your Foursquare ID\nCLIENT_SECRET = '4CQASKIGY3V2NKDDME3X1LCLZUR02SZ2ISWMQ1QZJFBWXAUW' # your Foursquare Secret\nVERSION = '20180605' # Foursquare API version\n"
        },
        {
            "cell_type": "markdown",
            "metadata": {},
            "source": "From Foursquare, we want to get a count of pizza places in each neighborhood, then a list of all the pizza places with the number of visits to determine the popularity of certain locations. We'll start high level, looking at the number of pizza places in each borough, along with total visits to all the pizza shops in a borough. Once we select a borough, we will do the same for its neighborhoods.\n"
        },
        {
            "cell_type": "code",
            "execution_count": 20,
            "metadata": {},
            "outputs": [
                {
                    "data": {
                        "text/plain": "'https://api.foursquare.com/v2/venues/explore?&client_id=41UVGBKCELUFGH5URUEESMYG0MDPAMQDWYB0RXERKYZNN1JC&client_secret=4CQASKIGY3V2NKDDME3X1LCLZUR02SZ2ISWMQ1QZJFBWXAUW&v=20180605&near=Manhattan_NY&categoryId=4bf58dd8d48988d1ca941735'"
                    },
                    "execution_count": 20,
                    "metadata": {},
                    "output_type": "execute_result"
                }
            ],
            "source": "categoryId = '4bf58dd8d48988d1ca941735'  #categoryId for Pizza Place\nnear = 'Manhattan_NY'\n\n#build a search url for Manhattan\nurl = 'https://api.foursquare.com/v2/venues/explore?&client_id={}&client_secret={}&v={}&near={}&categoryId={}'.format(\n    CLIENT_ID, \n    CLIENT_SECRET, \n    VERSION, \n    near,\n    categoryId)\nurl # display URL"
        },
        {
            "cell_type": "code",
            "execution_count": 22,
            "metadata": {},
            "outputs": [],
            "source": "Manhattan = requests.get(url).json()\n"
        },
        {
            "cell_type": "code",
            "execution_count": 26,
            "metadata": {},
            "outputs": [
                {
                    "data": {
                        "text/html": "<div>\n<style scoped>\n    .dataframe tbody tr th:only-of-type {\n        vertical-align: middle;\n    }\n\n    .dataframe tbody tr th {\n        vertical-align: top;\n    }\n\n    .dataframe thead th {\n        text-align: right;\n    }\n</style>\n<table border=\"1\" class=\"dataframe\">\n  <thead>\n    <tr style=\"text-align: right;\">\n      <th></th>\n      <th>name</th>\n      <th>lat</th>\n      <th>lng</th>\n    </tr>\n  </thead>\n  <tbody>\n    <tr>\n      <th>0</th>\n      <td>B Side</td>\n      <td>40.763986</td>\n      <td>-73.988145</td>\n    </tr>\n    <tr>\n      <th>1</th>\n      <td>Joe's Pizza</td>\n      <td>40.733234</td>\n      <td>-73.987672</td>\n    </tr>\n    <tr>\n      <th>2</th>\n      <td>Marta</td>\n      <td>40.744452</td>\n      <td>-73.984675</td>\n    </tr>\n    <tr>\n      <th>3</th>\n      <td>Joe's Pizza</td>\n      <td>40.754679</td>\n      <td>-73.987029</td>\n    </tr>\n    <tr>\n      <th>4</th>\n      <td>New York Pizza Suprema</td>\n      <td>40.750124</td>\n      <td>-73.994992</td>\n    </tr>\n  </tbody>\n</table>\n</div>",
                        "text/plain": "                     name        lat        lng\n0                  B Side  40.763986 -73.988145\n1             Joe's Pizza  40.733234 -73.987672\n2                   Marta  40.744452 -73.984675\n3             Joe's Pizza  40.754679 -73.987029\n4  New York Pizza Suprema  40.750124 -73.994992"
                    },
                    "execution_count": 26,
                    "metadata": {},
                    "output_type": "execute_result"
                }
            ],
            "source": "M_venues = Manhattan['response']['groups'][0]['items']\n    \nM_nearby_venues = json_normalize(M_venues) # flatten JSON\n\n# filter columns\nfiltered_columns = ['venue.name', 'venue.location.lat', 'venue.location.lng']\nM_nearby_venues =M_nearby_venues.loc[:, filtered_columns]\n\n# clean columns\nM_nearby_venues.columns = [col.split(\".\")[-1] for col in M_nearby_venues.columns]\n\nM_nearby_venues.head()"
        },
        {
            "cell_type": "code",
            "execution_count": 29,
            "metadata": {},
            "outputs": [
                {
                    "data": {
                        "text/html": "<div>\n<style scoped>\n    .dataframe tbody tr th:only-of-type {\n        vertical-align: middle;\n    }\n\n    .dataframe tbody tr th {\n        vertical-align: top;\n    }\n\n    .dataframe thead th {\n        text-align: right;\n    }\n</style>\n<table border=\"1\" class=\"dataframe\">\n  <thead>\n    <tr style=\"text-align: right;\">\n      <th></th>\n      <th>name</th>\n      <th>lat</th>\n      <th>lng</th>\n    </tr>\n  </thead>\n  <tbody>\n    <tr>\n      <th>0</th>\n      <td>Zero Otto Nove</td>\n      <td>40.854714</td>\n      <td>-73.888388</td>\n    </tr>\n    <tr>\n      <th>1</th>\n      <td>Kingsbridge Social Club</td>\n      <td>40.884545</td>\n      <td>-73.901964</td>\n    </tr>\n    <tr>\n      <th>2</th>\n      <td>Sam's Pizza</td>\n      <td>40.879435</td>\n      <td>-73.905859</td>\n    </tr>\n    <tr>\n      <th>3</th>\n      <td>Louie &amp; Ernie's Pizza</td>\n      <td>40.838310</td>\n      <td>-73.828785</td>\n    </tr>\n    <tr>\n      <th>4</th>\n      <td>Nicks Pizza</td>\n      <td>40.870352</td>\n      <td>-73.846171</td>\n    </tr>\n  </tbody>\n</table>\n</div>",
                        "text/plain": "                      name        lat        lng\n0           Zero Otto Nove  40.854714 -73.888388\n1  Kingsbridge Social Club  40.884545 -73.901964\n2              Sam's Pizza  40.879435 -73.905859\n3    Louie & Ernie's Pizza  40.838310 -73.828785\n4              Nicks Pizza  40.870352 -73.846171"
                    },
                    "execution_count": 29,
                    "metadata": {},
                    "output_type": "execute_result"
                }
            ],
            "source": "#repeat the process for the other 4 boroughs\nnear = 'Bronx_NY'\n\nurl = 'https://api.foursquare.com/v2/venues/explore?&client_id={}&client_secret={}&v={}&near={}&categoryId={}'.format(\n    CLIENT_ID, \n    CLIENT_SECRET, \n    VERSION, \n    near,\n    categoryId)\n\nBronx = requests.get(url).json()\n\nB_venues = Bronx['response']['groups'][0]['items']\n    \nB_nearby_venues = json_normalize(B_venues) # flatten JSON\n\n# filter columns\nB_nearby_venues =B_nearby_venues.loc[:, filtered_columns]\n\n# clean columns\nB_nearby_venues.columns = [col.split(\".\")[-1] for col in B_nearby_venues.columns]\n\nB_nearby_venues.head()"
        },
        {
            "cell_type": "code",
            "execution_count": 30,
            "metadata": {},
            "outputs": [
                {
                    "data": {
                        "text/html": "<div>\n<style scoped>\n    .dataframe tbody tr th:only-of-type {\n        vertical-align: middle;\n    }\n\n    .dataframe tbody tr th {\n        vertical-align: top;\n    }\n\n    .dataframe thead th {\n        text-align: right;\n    }\n</style>\n<table border=\"1\" class=\"dataframe\">\n  <thead>\n    <tr style=\"text-align: right;\">\n      <th></th>\n      <th>name</th>\n      <th>lat</th>\n      <th>lng</th>\n    </tr>\n  </thead>\n  <tbody>\n    <tr>\n      <th>0</th>\n      <td>Levante</td>\n      <td>40.747518</td>\n      <td>-73.941590</td>\n    </tr>\n    <tr>\n      <th>1</th>\n      <td>Houdini Kitchen Laboratory</td>\n      <td>40.694077</td>\n      <td>-73.902269</td>\n    </tr>\n    <tr>\n      <th>2</th>\n      <td>sLICe</td>\n      <td>40.743741</td>\n      <td>-73.953689</td>\n    </tr>\n    <tr>\n      <th>3</th>\n      <td>Retro Pizza Cafe</td>\n      <td>40.758495</td>\n      <td>-73.918077</td>\n    </tr>\n    <tr>\n      <th>4</th>\n      <td>Rosa's Pizza</td>\n      <td>40.712168</td>\n      <td>-73.900103</td>\n    </tr>\n  </tbody>\n</table>\n</div>",
                        "text/plain": "                         name        lat        lng\n0                     Levante  40.747518 -73.941590\n1  Houdini Kitchen Laboratory  40.694077 -73.902269\n2                       sLICe  40.743741 -73.953689\n3            Retro Pizza Cafe  40.758495 -73.918077\n4                Rosa's Pizza  40.712168 -73.900103"
                    },
                    "execution_count": 30,
                    "metadata": {},
                    "output_type": "execute_result"
                }
            ],
            "source": "near = 'Queens_NY'\n\nurl = 'https://api.foursquare.com/v2/venues/explore?&client_id={}&client_secret={}&v={}&near={}&categoryId={}'.format(\n    CLIENT_ID, \n    CLIENT_SECRET, \n    VERSION, \n    near,\n    categoryId)\n\nQueens = requests.get(url).json()\n\nQ_venues = Queens['response']['groups'][0]['items']\n    \nQ_nearby_venues = json_normalize(Q_venues) # flatten JSON\n\n# filter columns\nQ_nearby_venues =Q_nearby_venues.loc[:, filtered_columns]\n\n# clean columns\nQ_nearby_venues.columns = [col.split(\".\")[-1] for col in Q_nearby_venues.columns]\n\nQ_nearby_venues.head()"
        },
        {
            "cell_type": "code",
            "execution_count": 33,
            "metadata": {},
            "outputs": [
                {
                    "data": {
                        "text/html": "<div>\n<style scoped>\n    .dataframe tbody tr th:only-of-type {\n        vertical-align: middle;\n    }\n\n    .dataframe tbody tr th {\n        vertical-align: top;\n    }\n\n    .dataframe thead th {\n        text-align: right;\n    }\n</style>\n<table border=\"1\" class=\"dataframe\">\n  <thead>\n    <tr style=\"text-align: right;\">\n      <th></th>\n      <th>name</th>\n      <th>lat</th>\n      <th>lng</th>\n    </tr>\n  </thead>\n  <tbody>\n    <tr>\n      <th>0</th>\n      <td>Brother's Pizza</td>\n      <td>40.625096</td>\n      <td>-74.143990</td>\n    </tr>\n    <tr>\n      <th>1</th>\n      <td>Denino's Pizzeria Tavern</td>\n      <td>40.630174</td>\n      <td>-74.140226</td>\n    </tr>\n    <tr>\n      <th>2</th>\n      <td>Lee's Tavern</td>\n      <td>40.588978</td>\n      <td>-74.095520</td>\n    </tr>\n    <tr>\n      <th>3</th>\n      <td>Pizzeria Giove</td>\n      <td>40.572256</td>\n      <td>-74.113123</td>\n    </tr>\n    <tr>\n      <th>4</th>\n      <td>Joe &amp; Pat Pizzeria and Restaurant</td>\n      <td>40.613046</td>\n      <td>-74.122128</td>\n    </tr>\n  </tbody>\n</table>\n</div>",
                        "text/plain": "                                name        lat        lng\n0                    Brother's Pizza  40.625096 -74.143990\n1           Denino's Pizzeria Tavern  40.630174 -74.140226\n2                       Lee's Tavern  40.588978 -74.095520\n3                     Pizzeria Giove  40.572256 -74.113123\n4  Joe & Pat Pizzeria and Restaurant  40.613046 -74.122128"
                    },
                    "execution_count": 33,
                    "metadata": {},
                    "output_type": "execute_result"
                }
            ],
            "source": "near = 'Staten_Island_NY'\n\nurl = 'https://api.foursquare.com/v2/venues/explore?&client_id={}&client_secret={}&v={}&near={}&categoryId={}'.format(\n    CLIENT_ID, \n    CLIENT_SECRET, \n    VERSION, \n    near,\n    categoryId)\n\nStaten_Island = requests.get(url).json()\n\nS_venues = Staten_Island['response']['groups'][0]['items']\n    \nS_nearby_venues = json_normalize(S_venues) # flatten JSON\n\n# filter columns\nS_nearby_venues =S_nearby_venues.loc[:, filtered_columns]\n\n# clean columns\nS_nearby_venues.columns = [col.split(\".\")[-1] for col in S_nearby_venues.columns]\n\nS_nearby_venues.head()"
        },
        {
            "cell_type": "code",
            "execution_count": 34,
            "metadata": {},
            "outputs": [
                {
                    "data": {
                        "text/html": "<div>\n<style scoped>\n    .dataframe tbody tr th:only-of-type {\n        vertical-align: middle;\n    }\n\n    .dataframe tbody tr th {\n        vertical-align: top;\n    }\n\n    .dataframe thead th {\n        text-align: right;\n    }\n</style>\n<table border=\"1\" class=\"dataframe\">\n  <thead>\n    <tr style=\"text-align: right;\">\n      <th></th>\n      <th>name</th>\n      <th>lat</th>\n      <th>lng</th>\n    </tr>\n  </thead>\n  <tbody>\n    <tr>\n      <th>0</th>\n      <td>Paulie Gee\u2019s</td>\n      <td>40.729801</td>\n      <td>-73.958520</td>\n    </tr>\n    <tr>\n      <th>1</th>\n      <td>Roberta's Pizza</td>\n      <td>40.705015</td>\n      <td>-73.933617</td>\n    </tr>\n    <tr>\n      <th>2</th>\n      <td>Lucali</td>\n      <td>40.681822</td>\n      <td>-74.000352</td>\n    </tr>\n    <tr>\n      <th>3</th>\n      <td>Barboncino</td>\n      <td>40.672104</td>\n      <td>-73.957412</td>\n    </tr>\n    <tr>\n      <th>4</th>\n      <td>Emmy Squared</td>\n      <td>40.712166</td>\n      <td>-73.955705</td>\n    </tr>\n  </tbody>\n</table>\n</div>",
                        "text/plain": "              name        lat        lng\n0     Paulie Gee\u2019s  40.729801 -73.958520\n1  Roberta's Pizza  40.705015 -73.933617\n2           Lucali  40.681822 -74.000352\n3       Barboncino  40.672104 -73.957412\n4     Emmy Squared  40.712166 -73.955705"
                    },
                    "execution_count": 34,
                    "metadata": {},
                    "output_type": "execute_result"
                }
            ],
            "source": "near = 'Brooklyn_NY'\n\nurl = 'https://api.foursquare.com/v2/venues/explore?&client_id={}&client_secret={}&v={}&near={}&categoryId={}'.format(\n    CLIENT_ID, \n    CLIENT_SECRET, \n    VERSION, \n    near,\n    categoryId)\n\nBrooklyn = requests.get(url).json()\n\nB_venues = Brooklyn['response']['groups'][0]['items']\n    \nB_nearby_venues = json_normalize(B_venues) # flatten JSON\n\n# filter columns\nB_nearby_venues =B_nearby_venues.loc[:, filtered_columns]\n\n# clean columns\nB_nearby_venues.columns = [col.split(\".\")[-1] for col in B_nearby_venues.columns]\n\nB_nearby_venues.head()"
        },
        {
            "cell_type": "code",
            "execution_count": null,
            "metadata": {},
            "outputs": [],
            "source": ""
        }
    ],
    "metadata": {
        "kernelspec": {
            "display_name": "Python 3.6",
            "language": "python",
            "name": "python3"
        },
        "language_info": {
            "codemirror_mode": {
                "name": "ipython",
                "version": 3
            },
            "file_extension": ".py",
            "mimetype": "text/x-python",
            "name": "python",
            "nbconvert_exporter": "python",
            "pygments_lexer": "ipython3",
            "version": "3.6.8"
        }
    },
    "nbformat": 4,
    "nbformat_minor": 1
}